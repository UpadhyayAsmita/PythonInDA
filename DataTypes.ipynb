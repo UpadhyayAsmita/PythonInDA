{
 "cells": [
  {
   "cell_type": "code",
   "execution_count": 7,
   "id": "fe69f15b-07bc-44fc-921c-3a42624d76e4",
   "metadata": {},
   "outputs": [
    {
     "name": "stdout",
     "output_type": "stream",
     "text": [
      "sorry\n"
     ]
    }
   ],
   "source": [
    "a=\"sorry\"\n",
    "print(a)"
   ]
  },
  {
   "cell_type": "code",
   "execution_count": 5,
   "id": "313d7e32-b969-4876-ac04-826bf61a9934",
   "metadata": {},
   "outputs": [
    {
     "data": {
      "text/plain": [
       "complex"
      ]
     },
     "execution_count": 5,
     "metadata": {},
     "output_type": "execute_result"
    }
   ],
   "source": [
    "x=12+3j\n",
    "type(x)"
   ]
  },
  {
   "cell_type": "code",
   "execution_count": 6,
   "id": "3449abcb-a055-4c1c-b4b3-98754ee8d7c4",
   "metadata": {},
   "outputs": [
    {
     "data": {
      "text/plain": [
       "bool"
      ]
     },
     "execution_count": 6,
     "metadata": {},
     "output_type": "execute_result"
    }
   ],
   "source": [
    "type(1>5)"
   ]
  },
  {
   "cell_type": "code",
   "execution_count": 11,
   "id": "31cc6fd4-b59d-4769-b1a6-d1a00d073ff2",
   "metadata": {},
   "outputs": [
    {
     "name": "stdout",
     "output_type": "stream",
     "text": [
      "sure?\n"
     ]
    }
   ],
   "source": [
    "a=\"are you sure?\"\n",
    "print(a[8:13])"
   ]
  },
  {
   "cell_type": "code",
   "execution_count": 12,
   "id": "6784733d-a403-4631-963b-f59d3cace7d4",
   "metadata": {},
   "outputs": [
    {
     "data": {
      "text/plain": [
       "['Sumeena', 'Asmita', 'Sumana', 'Sumnima']"
      ]
     },
     "execution_count": 12,
     "metadata": {},
     "output_type": "execute_result"
    }
   ],
   "source": [
    "name=['Sumeena','Asmita','Sumana']\n",
    "name.append('Sumnima')\n",
    "name"
   ]
  },
  {
   "cell_type": "code",
   "execution_count": 13,
   "id": "f225c5a9-d5b0-4b46-82f1-8ed4627c3100",
   "metadata": {},
   "outputs": [
    {
     "data": {
      "text/plain": [
       "['Sumeena', 'Suman', 'Sumana', 'Sumnima']"
      ]
     },
     "execution_count": 13,
     "metadata": {},
     "output_type": "execute_result"
    }
   ],
   "source": [
    "name[1]='Suman'\n",
    "name"
   ]
  },
  {
   "cell_type": "code",
   "execution_count": 14,
   "id": "c7b83a76-36cb-4b02-baf4-fa3923dd2908",
   "metadata": {},
   "outputs": [
    {
     "data": {
      "text/plain": [
       "['Sumeena', ['poudel', 'upadhyay', 'sharma'], 'Sumana', 'Sumnima']"
      ]
     },
     "execution_count": 14,
     "metadata": {},
     "output_type": "execute_result"
    }
   ],
   "source": [
    "nested_list=['Sumeena', ['poudel','upadhyay','sharma'], 'Sumana', 'Sumnima']\n",
    "nested_list"
   ]
  },
  {
   "cell_type": "code",
   "execution_count": 15,
   "id": "c6473644-bc95-474a-8dc4-e71e6cf6b887",
   "metadata": {},
   "outputs": [
    {
     "data": {
      "text/plain": [
       "['poudel', 'upadhyay', 'sharma']"
      ]
     },
     "execution_count": 15,
     "metadata": {},
     "output_type": "execute_result"
    }
   ],
   "source": [
    "nested_list[1]"
   ]
  },
  {
   "cell_type": "code",
   "execution_count": 16,
   "id": "b1ddc94a-3957-4fda-b8c7-d7012b3ed3ba",
   "metadata": {},
   "outputs": [
    {
     "data": {
      "text/plain": [
       "'sharma'"
      ]
     },
     "execution_count": 16,
     "metadata": {},
     "output_type": "execute_result"
    }
   ],
   "source": [
    "nested_list[1][2]"
   ]
  },
  {
   "cell_type": "code",
   "execution_count": null,
   "id": "ea0732ee-5b89-4888-9615-92c618a9e21c",
   "metadata": {},
   "outputs": [],
   "source": [
    "#tuple: we cannot append or change the value of tuple as in list"
   ]
  },
  {
   "cell_type": "code",
   "execution_count": 17,
   "id": "3d377123-8345-4be5-8872-841a0a2ba7fe",
   "metadata": {},
   "outputs": [
    {
     "data": {
      "text/plain": [
       "tuple"
      ]
     },
     "execution_count": 17,
     "metadata": {},
     "output_type": "execute_result"
    }
   ],
   "source": [
    "school=(5,4,3,2,1)\n",
    "type(school)"
   ]
  },
  {
   "cell_type": "code",
   "execution_count": 18,
   "id": "095f3ddb-86c7-41d5-8be1-3470064bc75b",
   "metadata": {},
   "outputs": [
    {
     "data": {
      "text/plain": [
       "2"
      ]
     },
     "execution_count": 18,
     "metadata": {},
     "output_type": "execute_result"
    }
   ],
   "source": [
    "school[3]"
   ]
  },
  {
   "cell_type": "code",
   "execution_count": null,
   "id": "575c4a8d-95c1-4243-a81b-dae88f19403c",
   "metadata": {},
   "outputs": [],
   "source": [
    "#sets : we cannot add extract value from it however we can get unit   (from the repeated data)"
   ]
  },
  {
   "cell_type": "code",
   "execution_count": 21,
   "id": "5f91dee8-a603-4fce-9f1e-8717a9ba1e4f",
   "metadata": {},
   "outputs": [
    {
     "name": "stdout",
     "output_type": "stream",
     "text": [
      "{'E', 'A', 'C', 'D', 'B'}\n"
     ]
    },
    {
     "data": {
      "text/plain": [
       "set"
      ]
     },
     "execution_count": 21,
     "metadata": {},
     "output_type": "execute_result"
    }
   ],
   "source": [
    "my_set={'A','B','C','D','E','E', 'A', 'C', 'D', 'B'}\n",
    "print(my_set)\n",
    "type(my_set)"
   ]
  },
  {
   "cell_type": "code",
   "execution_count": 24,
   "id": "04900ec0-def3-46d3-8cc0-eb51e0265f8c",
   "metadata": {},
   "outputs": [
    {
     "name": "stdout",
     "output_type": "stream",
     "text": [
      "{'Ant', 'Cat', 'E', 'Emp', 'A', 'D', 'B'}\n"
     ]
    }
   ],
   "source": [
    "your_set={'Ant','B','Cat','D','Emp','E', 'A', 'Cat', 'D', 'B'}\n",
    "print(your_set)"
   ]
  },
  {
   "cell_type": "code",
   "execution_count": 25,
   "id": "b4126167-275b-4926-890f-e7353d7d2d16",
   "metadata": {},
   "outputs": [
    {
     "name": "stdout",
     "output_type": "stream",
     "text": [
      "{'Cat', 'A', 'D', 'B', 'Ant', 'E', 'Emp', 'C'}\n"
     ]
    }
   ],
   "source": [
    "print(my_set|your_set)"
   ]
  },
  {
   "cell_type": "code",
   "execution_count": 26,
   "id": "ccbb45bd-40ea-4c36-b939-2b3cc448046a",
   "metadata": {},
   "outputs": [
    {
     "name": "stdout",
     "output_type": "stream",
     "text": [
      "{'E', 'B', 'D', 'A'}\n"
     ]
    }
   ],
   "source": [
    "print(my_set&your_set)"
   ]
  },
  {
   "cell_type": "code",
   "execution_count": 27,
   "id": "4395a01e-2475-4fee-beb9-8f2f504e872c",
   "metadata": {},
   "outputs": [
    {
     "name": "stdout",
     "output_type": "stream",
     "text": [
      "{'C'}\n"
     ]
    }
   ],
   "source": [
    "print(my_set-your_set)"
   ]
  },
  {
   "cell_type": "code",
   "execution_count": 28,
   "id": "98192121-f3a8-4739-97ac-417a247ea29e",
   "metadata": {},
   "outputs": [
    {
     "name": "stdout",
     "output_type": "stream",
     "text": [
      "{'Ant', 'Cat', 'Emp'}\n"
     ]
    }
   ],
   "source": [
    "print(your_set-my_set)"
   ]
  },
  {
   "cell_type": "code",
   "execution_count": 29,
   "id": "b26c5b86-06ce-48a7-a67a-030e979a77b9",
   "metadata": {},
   "outputs": [
    {
     "name": "stdout",
     "output_type": "stream",
     "text": [
      "{'Ant', 'Cat', 'Emp', 'C'}\n"
     ]
    }
   ],
   "source": [
    "print(your_set^my_set)"
   ]
  },
  {
   "cell_type": "code",
   "execution_count": 34,
   "id": "bfb71bcc-d99b-4709-8eae-f2d4d77396bf",
   "metadata": {},
   "outputs": [
    {
     "name": "stdout",
     "output_type": "stream",
     "text": [
      "{'name': 'Sumeena', 'age': '22', 'dob': '2002'}\n"
     ]
    },
    {
     "data": {
      "text/plain": [
       "dict"
      ]
     },
     "execution_count": 34,
     "metadata": {},
     "output_type": "execute_result"
    }
   ],
   "source": [
    "#dictonary\n",
    "#key/value pair\n",
    "A={'name':'Sumeena','age':'22','dob':'2002'}\n",
    "print(A)\n",
    "type(A)"
   ]
  },
  {
   "cell_type": "code",
   "execution_count": null,
   "id": "61f05da8-c6d6-4079-8a7f-93c23c9e6c69",
   "metadata": {},
   "outputs": [],
   "source": []
  },
  {
   "cell_type": "code",
   "execution_count": null,
   "id": "3f5d9bbf-88a7-4a7f-95ee-939e9e329a71",
   "metadata": {},
   "outputs": [],
   "source": []
  },
  {
   "cell_type": "code",
   "execution_count": null,
   "id": "5511a560-f614-40d2-b587-6eda2ef0ff26",
   "metadata": {},
   "outputs": [],
   "source": []
  },
  {
   "cell_type": "code",
   "execution_count": null,
   "id": "a0ef1999-6061-4be0-85f1-3e843b4a0b95",
   "metadata": {},
   "outputs": [],
   "source": []
  }
 ],
 "metadata": {
  "kernelspec": {
   "display_name": "Python 3 (ipykernel)",
   "language": "python",
   "name": "python3"
  },
  "language_info": {
   "codemirror_mode": {
    "name": "ipython",
    "version": 3
   },
   "file_extension": ".py",
   "mimetype": "text/x-python",
   "name": "python",
   "nbconvert_exporter": "python",
   "pygments_lexer": "ipython3",
   "version": "3.11.7"
  }
 },
 "nbformat": 4,
 "nbformat_minor": 5
}
